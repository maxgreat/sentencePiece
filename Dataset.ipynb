{
 "cells": [
  {
   "cell_type": "markdown",
   "metadata": {},
   "source": [
    "### Text file, here english wikipedia"
   ]
  },
  {
   "cell_type": "code",
   "execution_count": 9,
   "metadata": {},
   "outputs": [],
   "source": [
    "import torch"
   ]
  },
  {
   "cell_type": "code",
   "execution_count": 10,
   "metadata": {},
   "outputs": [],
   "source": [
    "import torch.utils.data as data"
   ]
  },
  {
   "cell_type": "code",
   "execution_count": 11,
   "metadata": {},
   "outputs": [],
   "source": [
    "from ipywidgets import FloatProgress\n",
    "from IPython.display import display"
   ]
  },
  {
   "cell_type": "code",
   "execution_count": 12,
   "metadata": {},
   "outputs": [],
   "source": [
    "wiki_file = \"/data/datasets/enwiki_pre.txt\""
   ]
  },
  {
   "cell_type": "code",
   "execution_count": 13,
   "metadata": {},
   "outputs": [],
   "source": [
    "def countlines(file):\n",
    "    c = 0\n",
    "    for line in file:\n",
    "        c += 1\n",
    "    file.seek(0)\n",
    "    return c"
   ]
  },
  {
   "cell_type": "code",
   "execution_count": 44,
   "metadata": {},
   "outputs": [],
   "source": [
    "def createDictionnary(text_file, min_count=30):\n",
    "    word2id = {}\n",
    "    wordCount = {}\n",
    "    i = 0\n",
    "    with open(text_file,encoding=\"ISO-8859-1\") as f:\n",
    "        c = countlines(f)\n",
    "        prog = FloatProgress(min=0, max=c)\n",
    "        display(prog)\n",
    "        for j, line in enumerate(f):\n",
    "            if j % 1000 == 0:\n",
    "                prog.value += 1000\n",
    "            #update_progress(j / c)\n",
    "            #print(\"%2.2f\" %(j/c*100), end='')            \n",
    "            for word in line.split(' '):\n",
    "                if not word in word2id:\n",
    "                    word2id[word] = i\n",
    "                    i += 1\n",
    "                \n",
    "                if not word in wordCount:\n",
    "                    wordCount[word] = 1\n",
    "                else:\n",
    "                    wordCount[word] += 1\n",
    "    word2id = {w:word2id[w] for w in word2id if wordCount[w] >= min_count}\n",
    "    print(\"Dictionnary of \", len(word2id), \"words\")\n",
    "    return word2id"
   ]
  },
  {
   "cell_type": "code",
   "execution_count": 45,
   "metadata": {},
   "outputs": [],
   "source": [
    "class contextDataset(data.Dataset):\n",
    "    def __init__(self, text_file, word2id=None):\n",
    "        if word2id is None:\n",
    "            self.word2id = createDictionnary(text_file)\n",
    "        self.text = []\n",
    "        with open(text_file, encoding=\"ISO-8859-1\") as f:\n",
    "            print(\"Reading text file\")\n",
    "            prog = FloatProgress(min=0, max=countlines(f))\n",
    "            for i, line in enumerate(f):\n",
    "                if i%1000 == 0:\n",
    "                    prog.value += 1000\n",
    "                self.text.extend([w for w in line.split(' ') if w in self.word2id])\n",
    "            \n",
    "        self.word2id = word2id\n",
    "        \n",
    "    def __len__(self):\n",
    "        return len(self.text)\n",
    "    \n",
    "    def __getitem__(self, i):\n",
    "        target = torch.LongTensor([self.word2id[self.text[i]]])\n",
    "        if i >= 2 and i < len(text) - 2:\n",
    "            context = [self.text[i - 2], self.text[i - 1],\n",
    "                      self.text[i + 1], self.text[i + 2]]\n",
    "        elif i == 1:\n",
    "            context = [self.text[i - 1], self.text[i + 1],\n",
    "                      self.text[i + 2], self.text[i + 3]]\n",
    "        elif i == 0:\n",
    "            context = [self.text[i + 1], self.text[i + 2], \n",
    "                       self.text[i + 3], self.text[i+4]]\n",
    "        elif i >= len(text) - 2:\n",
    "            context = [self.text[i-4], self.text[i-3] ,self.text[i - 2], self.text[i - 1]]\n",
    "        else:\n",
    "            print(\"ERROOR :\", i, '/', len(self.text))\n",
    "            return None\n",
    "        context = [self.word2id[c] for c in context]\n",
    "        \n",
    "        neg = random.choices(list(word2id.values()), k=1)\n",
    "        \n",
    "        return target, context, neg"
   ]
  },
  {
   "cell_type": "code",
   "execution_count": 46,
   "metadata": {},
   "outputs": [
    {
     "data": {
      "application/vnd.jupyter.widget-view+json": {
       "model_id": "92ae57f86d334457b29a5135f8265398",
       "version_major": 2,
       "version_minor": 0
      },
      "text/plain": [
       "FloatProgress(value=0.0, max=85778920.0)"
      ]
     },
     "metadata": {},
     "output_type": "display_data"
    },
    {
     "name": "stdout",
     "output_type": "stream",
     "text": [
      "Dictionnary of  578642 words\n",
      "Reading text file\n"
     ]
    }
   ],
   "source": [
    "cd = contextDataset(wiki_file)"
   ]
  },
  {
   "cell_type": "code",
   "execution_count": 43,
   "metadata": {},
   "outputs": [
    {
     "name": "stdout",
     "output_type": "stream",
     "text": [
      "None\n"
     ]
    }
   ],
   "source": [
    "print(cd.word2id)"
   ]
  }
 ],
 "metadata": {
  "kernelspec": {
   "display_name": "Python 3",
   "language": "python",
   "name": "python3"
  },
  "language_info": {
   "codemirror_mode": {
    "name": "ipython",
    "version": 3
   },
   "file_extension": ".py",
   "mimetype": "text/x-python",
   "name": "python",
   "nbconvert_exporter": "python",
   "pygments_lexer": "ipython3",
   "version": "3.6.5"
  }
 },
 "nbformat": 4,
 "nbformat_minor": 2
}
