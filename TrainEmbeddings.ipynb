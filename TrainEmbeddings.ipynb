{
 "cells": [
  {
   "cell_type": "markdown",
   "metadata": {},
   "source": [
    "### SentencePiece\n",
    "découpe les mots. Peut être utilisé en multi-langue (particulièrement pour les langues avec des bases de mots communes)"
   ]
  },
  {
   "cell_type": "markdown",
   "metadata": {},
   "source": [
    "### WordEmbeddings \n",
    "Normalement appliqué après tokenization. Doit être appris sur une langue. Serait-il possible d’apprendre des sentencePice embedding dans plusieurs langue? A tester sur une langue, puis deux, puis 30 (comme MUSE)."
   ]
  },
  {
   "cell_type": "markdown",
   "metadata": {},
   "source": [
    "### Objectifs : \n",
    "* Apprendre sentencePiece\n",
    "* Apprendre sentencePiece Embeddings\n",
    "* Comment évaluer les embeddings?\n",
    "* Apprendre sentencePiece Embeddings en plusieurs langues\n",
    "* Evaluation?\n"
   ]
  },
  {
   "cell_type": "markdown",
   "metadata": {},
   "source": [
    "## Create Embeddings"
   ]
  },
  {
   "cell_type": "code",
   "execution_count": 3,
   "metadata": {},
   "outputs": [],
   "source": [
    "import torch\n",
    "import torch.nn as nn\n",
    "import torch.nn.functional as F\n",
    "import torch.optim as optim"
   ]
  },
  {
   "cell_type": "code",
   "execution_count": 4,
   "metadata": {},
   "outputs": [],
   "source": [
    "embed_size = 10"
   ]
  },
  {
   "cell_type": "code",
   "execution_count": 5,
   "metadata": {},
   "outputs": [],
   "source": [
    "word_to_id = {\"hello\": 0, \"world\": 1} # create dictionnary of words ids\n",
    "embeds = nn.Embedding(len(word_to_id), embed_size)"
   ]
  },
  {
   "cell_type": "code",
   "execution_count": 6,
   "metadata": {},
   "outputs": [
    {
     "name": "stdout",
     "output_type": "stream",
     "text": [
      "tensor([[ 0.9030,  0.4625,  0.5271, -0.8857,  0.1078,  1.1686, -2.4703,  0.3150,\n",
      "         -1.5301,  0.5192]], grad_fn=<EmbeddingBackward>)\n"
     ]
    }
   ],
   "source": [
    "word_tensor = torch.tensor([word_to_id[\"hello\"]], dtype=torch.long)\n",
    "hello_embed = embeds(word_tensor)\n",
    "print(hello_embed)"
   ]
  },
  {
   "cell_type": "markdown",
   "metadata": {},
   "source": [
    "## Pretrained Embeddings with CBOW"
   ]
  },
  {
   "cell_type": "code",
   "execution_count": 9,
   "metadata": {},
   "outputs": [],
   "source": [
    "text = \"\"\"Deep learning (also known as deep structured learning or hierarchical learning) \n",
    "is part of a broader family of machine learning methods based on learning data representations, \n",
    "as opposed to task-specific algorithms. Learning can be supervised, semi-supervised or unsupervised. \n",
    "Deep learning architectures such as deep neural networks, deep belief networks and recurrent neural \n",
    "networks have been applied to fields including computer vision, speech recognition, natural language \n",
    "processing, audio recognition, social network filtering, machine translation, bioinformatics, \n",
    "drug design, medical image analysis, material inspection and board game programs, where they have \n",
    "produced results comparable to and in some cases superior to human experts. Deep learning models are \n",
    "vaguely inspired by information processing and communication patterns in biological nervous systems \n",
    "yet have various differences from the structural and functional properties of biological brains \n",
    "(especially human brains), which make them incompatible with neuroscience evidences.\"\"\".split()"
   ]
  },
  {
   "cell_type": "code",
   "execution_count": 28,
   "metadata": {},
   "outputs": [],
   "source": [
    "vocab = set(text)\n",
    "vocab_size = len(vocab)\n",
    "word2id = {word:i for i,word in enumerate(vocab)}\n",
    "id2word = {i:word for i,word in enumerate(vocab)}"
   ]
  },
  {
   "cell_type": "markdown",
   "metadata": {},
   "source": [
    "### Generate data for training"
   ]
  },
  {
   "cell_type": "code",
   "execution_count": 16,
   "metadata": {},
   "outputs": [
    {
     "name": "stdout",
     "output_type": "stream",
     "text": [
      "[(['Deep', 'learning', 'known', 'as'], '(also'), (['learning', '(also', 'as', 'deep'], 'known'), (['(also', 'known', 'deep', 'structured'], 'as'), (['known', 'as', 'structured', 'learning'], 'deep'), (['as', 'deep', 'learning', 'or'], 'structured')]\n"
     ]
    }
   ],
   "source": [
    "data = []\n",
    "for i in range(2, len(text) - 2):\n",
    "    context = [text[i - 2], text[i - 1],\n",
    "               text[i + 1], text[i + 2]]\n",
    "    target = text[i]\n",
    "    data.append((context, target))\n",
    "print(data[:5])"
   ]
  },
  {
   "cell_type": "code",
   "execution_count": 21,
   "metadata": {},
   "outputs": [],
   "source": [
    "def make_context_vector(context, word_to_ix):\n",
    "    idxs = [word_to_ix[w] for w in context]\n",
    "    return torch.tensor(idxs, dtype=torch.long)"
   ]
  },
  {
   "cell_type": "code",
   "execution_count": 26,
   "metadata": {},
   "outputs": [],
   "source": [
    "def get_max_prob_result(input, ix_to_word):\n",
    "    return ix_to_word[get_index_of_max(input)]"
   ]
  },
  {
   "cell_type": "code",
   "execution_count": 31,
   "metadata": {},
   "outputs": [],
   "source": [
    "def get_index_of_max(input):\n",
    "    index = 0\n",
    "    for i in range(1, len(input)):\n",
    "        if input[i] > input[index]:\n",
    "            index = i \n",
    "    return index"
   ]
  },
  {
   "cell_type": "markdown",
   "metadata": {},
   "source": [
    "### CBOW model"
   ]
  },
  {
   "cell_type": "code",
   "execution_count": 17,
   "metadata": {},
   "outputs": [],
   "source": [
    "class CBOW(torch.nn.Module):\n",
    "    def __init__(self, vocab_size, embedding_dim, hidden_size=128):\n",
    "        super(CBOW, self).__init__()\n",
    "        self.embeddings = nn.Embedding(vocab_size, embedding_dim)\n",
    "        \n",
    "        self.projection = nn.Sequential(\n",
    "                            nn.Linear(embedding_dim, hidden_size),\n",
    "                            nn.ReLU(),\n",
    "                            nn.Linear(hidden_size, vocab_size),\n",
    "                            nn.LogSoftmax(dim = -1)\n",
    "                        )\n",
    "        \n",
    "\n",
    "    def forward(self, inputs):\n",
    "        embeds = sum(self.embeddings(inputs)).view(1,-1)\n",
    "        out = self.projection(embeds)\n",
    "        return out\n",
    "\n",
    "    def get_word_emdedding(self, word):\n",
    "        word = torch.LongTensor([word2id[word]])\n",
    "        return self.embeddings(word).view(1,-1)"
   ]
  },
  {
   "cell_type": "code",
   "execution_count": 18,
   "metadata": {},
   "outputs": [],
   "source": [
    "model = CBOW(vocab_size, embed_size)"
   ]
  },
  {
   "cell_type": "markdown",
   "metadata": {},
   "source": [
    "### Learning"
   ]
  },
  {
   "cell_type": "code",
   "execution_count": 19,
   "metadata": {},
   "outputs": [],
   "source": [
    "loss_function = nn.NLLLoss()\n",
    "optimizer = torch.optim.SGD(model.parameters(), lr=0.001)"
   ]
  },
  {
   "cell_type": "code",
   "execution_count": 22,
   "metadata": {},
   "outputs": [],
   "source": [
    "for epoch in range(50):\n",
    "    total_loss = 0\n",
    "    for context, target in data:\n",
    "        context_vector = make_context_vector(context, word2id)  \n",
    "        model.zero_grad()\n",
    "        log_probs = model(context_vector)\n",
    "        loss = loss_function(log_probs, torch.tensor([word2id[target]], dtype=torch.long))\n",
    "        loss.backward()\n",
    "        optimizer.step()\n",
    "\n",
    "        total_loss += loss.data"
   ]
  },
  {
   "cell_type": "markdown",
   "metadata": {},
   "source": [
    "### Test"
   ]
  },
  {
   "cell_type": "code",
   "execution_count": 38,
   "metadata": {},
   "outputs": [
    {
     "name": "stdout",
     "output_type": "stream",
     "text": [
      "Raw text: Deep learning (also known as deep structured learning or hierarchical learning) is part of a broader family of machine learning methods based on learning data representations, as opposed to task-specific algorithms. Learning can be supervised, semi-supervised or unsupervised. Deep learning architectures such as deep neural networks, deep belief networks and recurrent neural networks have been applied to fields including computer vision, speech recognition, natural language processing, audio recognition, social network filtering, machine translation, bioinformatics, drug design, medical image analysis, material inspection and board game programs, where they have produced results comparable to and in some cases superior to human experts. Deep learning models are vaguely inspired by information processing and communication patterns in biological nervous systems yet have various differences from the structural and functional properties of biological brains (especially human brains), which make them incompatible with neuroscience evidences.\n",
      "\n",
      "Context: ['deep', 'networks']\n",
      "\n",
      "Prediction: neural\n"
     ]
    }
   ],
   "source": [
    "context = ['deep','networks']\n",
    "context_vector = make_context_vector(context, word2id)\n",
    "a = model(context_vector).data.numpy()\n",
    "print('Raw text: {}\\n'.format(' '.join(text)))\n",
    "print('Context: {}\\n'.format(context))\n",
    "print('Prediction: {}'.format(get_max_prob_result(a[0], id2word)))"
   ]
  },
  {
   "cell_type": "markdown",
   "metadata": {},
   "source": [
    "# Train embeddings with NGram"
   ]
  },
  {
   "cell_type": "markdown",
   "metadata": {},
   "source": [
    "### Ngram Model"
   ]
  },
  {
   "cell_type": "code",
   "execution_count": 46,
   "metadata": {},
   "outputs": [],
   "source": [
    "class NGramLanguageModeler(nn.Module):\n",
    "\n",
    "    def __init__(self, embeddings, context_size, hidden_size=128):\n",
    "        super(NGramLanguageModeler, self).__init__()\n",
    "        self.embeddings = embeddings\n",
    "        self.linear1 = nn.Linear(context_size * embeddings.embedding_dim, hidden_size)\n",
    "        self.linear2 = nn.Linear(hidden_size, vocab_size)\n",
    "\n",
    "    def forward(self, inputs):\n",
    "        embeds = self.embeddings(inputs).view((1, -1))\n",
    "        out = F.relu(self.linear1(embeds))\n",
    "        out = self.linear2(out)\n",
    "        log_probs = F.log_softmax(out, dim=1)\n",
    "        return log_probs"
   ]
  },
  {
   "cell_type": "markdown",
   "metadata": {},
   "source": [
    "### Training"
   ]
  },
  {
   "cell_type": "code",
   "execution_count": 50,
   "metadata": {},
   "outputs": [],
   "source": [
    "context_size=4\n",
    "losses = []\n",
    "loss_function = nn.NLLLoss()\n",
    "model = NGramLanguageModeler(model.embeddings, context_size)\n",
    "optimizer = optim.SGD(model.parameters(), lr=0.001)"
   ]
  },
  {
   "cell_type": "code",
   "execution_count": 54,
   "metadata": {},
   "outputs": [
    {
     "name": "stdout",
     "output_type": "stream",
     "text": [
      "[639.6431064605713, 636.1455450057983, 632.6791129112244, 629.2362413406372, 625.8128674030304, 622.407954454422, 619.0203759670258, 615.646913766861, 612.285144329071, 608.9335868358612, 605.5878043174744, 602.2468709945679, 598.9100432395935, 595.5780770778656, 592.2488238811493, 588.9199750423431, 585.592746257782, 582.2653639316559, 578.936427116394, 575.6009509563446, 572.2620227336884, 568.9157371520996, 565.5587601661682, 562.1914875507355, 558.8137016296387, 555.4224886894226, 552.0177237987518, 548.6014022827148, 545.1694092750549, 541.7221827507019, 538.260246515274, 534.7838125228882, 531.2932081222534, 527.7887389659882, 524.2669126987457, 520.7295987606049, 517.172247171402, 513.5990762710571, 510.00374937057495, 506.3846290111542, 502.74694442749023, 499.08873414993286, 495.40964698791504, 491.7113707065582, 487.9912827014923, 484.24533438682556, 480.47643995285034, 476.68663334846497, 472.8727788925171, 469.03556966781616, 465.17028641700745, 461.28220224380493, 457.36408019065857, 453.4209225177765, 449.4564325809479, 445.46402502059937, 441.4453957080841, 437.40219593048096, 433.3348512649536, 429.24507451057434, 425.1280825138092, 420.9846122264862, 416.8143312931061, 412.62512850761414, 408.4019994735718, 404.1633746623993, 399.89451694488525, 395.6079659461975, 391.30053544044495, 386.9759225845337, 382.6272723674774, 378.26032972335815, 373.8799936771393, 369.48248052597046, 365.0686709880829, 360.64019775390625, 356.1948986053467, 351.74121737480164, 347.2731177806854, 342.79690504074097, 338.30918979644775, 333.81737518310547, 329.3201882839203, 324.8211965560913, 320.3230504989624, 315.81962537765503, 311.3193678855896, 306.82169795036316, 302.3218517303467, 297.8336248397827, 293.3461539745331, 288.86906027793884, 284.403368473053, 279.94586277008057, 275.50772500038147, 271.0856075286865, 266.68155217170715, 262.29165983200073, 257.9270040988922, 253.57627606391907, 249.25334429740906, 244.955317735672, 240.68149399757385, 236.43318819999695, 232.2195806503296, 228.03545784950256, 223.88353991508484, 219.76927971839905, 215.68752551078796, 211.64383578300476, 207.63870763778687, 203.67002296447754, 199.74564337730408, 195.86027002334595, 192.01910591125488, 188.21649312973022, 184.46364951133728, 180.7508842945099, 177.08774828910828, 173.46838092803955, 169.90149426460266, 166.3774402141571, 162.90538716316223, 159.48674368858337, 156.1170175075531, 152.79870676994324, 149.53310012817383, 146.32013940811157, 143.16005277633667, 140.05518984794617, 137.00257301330566, 134.0052845478058, 131.06181287765503, 128.17085790634155, 125.33416724205017, 122.55440354347229, 119.82776069641113, 117.1548318862915, 114.53699374198914, 111.96833753585815, 109.45992803573608, 107.002357006073, 104.59724640846252, 102.24492406845093, 99.94461870193481, 97.69485855102539, 95.49908828735352, 93.35262513160706, 91.2553699016571, 89.20620560646057, 87.20762324333191, 85.25457501411438, 83.35091614723206, 81.49130511283875, 79.6787416934967, 77.91005969047546, 76.18750357627869, 74.50770258903503, 72.87181234359741, 71.27603006362915, 69.72147607803345, 68.2092854976654, 66.73490047454834, 65.29807758331299, 63.89990043640137, 62.53895306587219, 61.21307945251465, 59.922672510147095, 58.668099880218506, 57.44523811340332, 56.25473761558533, 55.09841585159302, 53.97212243080139, 52.87471342086792, 51.80839133262634, 50.7707998752594, 49.76229667663574, 48.779306411743164, 47.82321119308472, 46.89402389526367, 45.98891568183899, 45.10821008682251, 44.250957012176514, 43.41752743721008, 42.605780839920044, 41.81575965881348, 41.04715061187744, 40.299617767333984, 39.570955753326416, 38.862053871154785, 38.17156744003296, 37.499473094940186, 36.8452205657959, 36.20753765106201, 35.58733081817627, 34.98270511627197, 34.393412590026855, 33.820138454437256, 33.26098871231079, 32.715758323669434, 32.18492269515991, 31.66696310043335, 31.162707328796387, 30.6704044342041, 30.191081047058105, 29.722690105438232, 29.266691207885742, 28.82110023498535, 28.387025356292725, 27.96306800842285]\n"
     ]
    }
   ],
   "source": [
    "for epoch in range(100):\n",
    "    total_loss = 0\n",
    "    for context, target in data:\n",
    "\n",
    "        # Step 1. Prepare the inputs to be passed to the model (i.e, turn the words\n",
    "        # into integer indices and wrap them in tensors)\n",
    "        context_idxs = torch.tensor([word2id[w] for w in context], dtype=torch.long)\n",
    "\n",
    "        # Step 2. Recall that torch *accumulates* gradients. Before passing in a\n",
    "        # new instance, you need to zero out the gradients from the old\n",
    "        # instance\n",
    "        model.zero_grad()\n",
    "\n",
    "        # Step 3. Run the forward pass, getting log probabilities over next\n",
    "        # words\n",
    "        log_probs = model(context_idxs)\n",
    "\n",
    "        # Step 4. Compute your loss function. (Again, Torch wants the target\n",
    "        # word wrapped in a tensor)\n",
    "        loss = loss_function(log_probs, torch.tensor([word2id[target]], dtype=torch.long))\n",
    "\n",
    "        # Step 5. Do the backward pass and update the gradient\n",
    "        loss.backward()\n",
    "        optimizer.step()\n",
    "\n",
    "        # Get the Python number from a 1-element Tensor by calling tensor.item()\n",
    "        total_loss += loss.item()\n",
    "    losses.append(total_loss)\n",
    "print(losses)"
   ]
  },
  {
   "cell_type": "code",
   "execution_count": 57,
   "metadata": {},
   "outputs": [
    {
     "name": "stdout",
     "output_type": "stream",
     "text": [
      "Raw text: Deep learning (also known as deep structured learning or hierarchical learning) is part of a broader family of machine learning methods based on learning data representations, as opposed to task-specific algorithms. Learning can be supervised, semi-supervised or unsupervised. Deep learning architectures such as deep neural networks, deep belief networks and recurrent neural networks have been applied to fields including computer vision, speech recognition, natural language processing, audio recognition, social network filtering, machine translation, bioinformatics, drug design, medical image analysis, material inspection and board game programs, where they have produced results comparable to and in some cases superior to human experts. Deep learning models are vaguely inspired by information processing and communication patterns in biological nervous systems yet have various differences from the structural and functional properties of biological brains (especially human brains), which make them incompatible with neuroscience evidences.\n",
      "\n",
      "Context: ['deep', 'learning', 'machine', 'learning']\n",
      "\n",
      "Prediction: of\n"
     ]
    }
   ],
   "source": [
    "context = ['deep','learning','machine', 'learning']\n",
    "context_vector = make_context_vector(context, word2id)\n",
    "a = model(context_vector).data.numpy()\n",
    "print('Raw text: {}\\n'.format(' '.join(text)))\n",
    "print('Context: {}\\n'.format(context))\n",
    "print('Prediction: {}'.format(get_max_prob_result(a[0], id2word)))"
   ]
  }
 ],
 "metadata": {
  "kernelspec": {
   "display_name": "Python 3",
   "language": "python",
   "name": "python3"
  },
  "language_info": {
   "codemirror_mode": {
    "name": "ipython",
    "version": 3
   },
   "file_extension": ".py",
   "mimetype": "text/x-python",
   "name": "python",
   "nbconvert_exporter": "python",
   "pygments_lexer": "ipython3",
   "version": "3.6.5"
  }
 },
 "nbformat": 4,
 "nbformat_minor": 2
}
